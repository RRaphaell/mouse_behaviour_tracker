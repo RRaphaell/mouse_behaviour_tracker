{
 "cells": [
  {
   "cell_type": "code",
   "execution_count": 6,
   "outputs": [],
   "source": [
    "!rm -r images\n",
    "!rm -r masks"
   ],
   "metadata": {
    "collapsed": false,
    "pycharm": {
     "name": "#%%\n"
    }
   }
  },
  {
   "cell_type": "code",
   "execution_count": 1,
   "metadata": {
    "id": "RQUCJus3ayAu",
    "pycharm": {
     "name": "#%%\n"
    }
   },
   "outputs": [],
   "source": [
    "%load_ext autoreload\n",
    "%autoreload 2\n",
    "\n",
    "import cv2\n",
    "import torch\n",
    "import torch.optim as optim\n",
    "from torch.utils.data import  DataLoader\n",
    "\n",
    "import segmentation_models_pytorch as smp\n",
    "import albumentations as A\n",
    "\n",
    "from config import CFG\n",
    "from Dataset import BuildDatasetParts\n",
    "from scripts.Models.utils import set_seed\n",
    "from scripts.Models.Trainer import Trainer\n",
    "from scripts.Models.Dataset import BuildDataset\n",
    "from scripts.Models.ModelBuilder import ModelBuilder\n",
    "from scripts.Models.Metrics import dice_coef, iou_coef"
   ]
  },
  {
   "cell_type": "code",
   "execution_count": 2,
   "outputs": [],
   "source": [
    "def prepare_loaders():\n",
    "    print(\"Video processing....\")\n",
    "\n",
    "    print(\"*********  Creating datasets  *********\")\n",
    "    train_dataset = BuildDatasetParts(data_transforms[\"train\"], CFG)\n",
    "    valid_dataset = BuildDatasetParts(data_transforms[\"valid\"], CFG)\n",
    "    print(\"*********  Creating datasets DONE  *********\")\n",
    "\n",
    "    print(\"********* Creating data loaders *********\")\n",
    "    train_dataloader = DataLoader(train_dataset, batch_size=CFG.train_bs,\n",
    "                                  num_workers=2, shuffle=True, pin_memory=True)\n",
    "    valid_dataloader = DataLoader(valid_dataset, batch_size=CFG.train_bs,\n",
    "                                  num_workers=2, shuffle=False, pin_memory=True)\n",
    "    print(\"********* Creating data loaders DONE *********\")\n",
    "\n",
    "    return train_dataset, valid_dataset, train_dataloader, valid_dataloader"
   ],
   "metadata": {
    "collapsed": false,
    "pycharm": {
     "name": "#%%\n"
    }
   }
  },
  {
   "cell_type": "code",
   "execution_count": 3,
   "outputs": [],
   "source": [
    "set_seed()"
   ],
   "metadata": {
    "collapsed": false,
    "pycharm": {
     "name": "#%%\n"
    }
   }
  },
  {
   "cell_type": "code",
   "source": [
    "data_transforms = {\n",
    "    \"train\": A.Compose([\n",
    "#                         A.HorizontalFlip(p=0.5),\n",
    "#                         A.VerticalFlip(p=0.5),\n",
    "                        # A.Resize(*CFG.img_size, interpolation=cv2.INTER_NEAREST),\n",
    "                        A.Normalize(),\n",
    "                        A.PadIfNeeded(CFG.img_size[0], CFG.img_size[1],\n",
    "                                                      position = A.transforms.PadIfNeeded.PositionType.BOTTOM_RIGHT,\n",
    "                                                      border_mode = cv2.BORDER_CONSTANT,\n",
    "                                                      value=0, mask_value=0),\n",
    "                        A.Affine(translate_percent=(0.1, 0.1)),\n",
    "                        ], p=1.0),\n",
    "    \n",
    "    \"valid\": A.Compose([\n",
    "        A.Resize(*CFG.img_size, interpolation=cv2.INTER_NEAREST),\n",
    "        A.Normalize()\n",
    "        ], p=1.0)\n",
    "}"
   ],
   "metadata": {
    "id": "EVrzxvhbZ9WQ",
    "pycharm": {
     "name": "#%%\n"
    }
   },
   "execution_count": 4,
   "outputs": []
  },
  {
   "cell_type": "code",
   "execution_count": 5,
   "outputs": [
    {
     "name": "stdout",
     "output_type": "stream",
     "text": [
      "Video processing....\n",
      "*********  Creating datasets  *********\n",
      "*********  Creating datasets DONE  *********\n",
      "********* Creating data loaders *********\n",
      "********* Creating data loaders DONE *********\n"
     ]
    }
   ],
   "source": [
    "train_dataset, valid_dataset, train_dataloader, valid_dataloader = prepare_loaders()"
   ],
   "metadata": {
    "collapsed": false,
    "pycharm": {
     "name": "#%%\n"
    }
   }
  },
  {
   "cell_type": "code",
   "execution_count": null,
   "outputs": [],
   "source": [
    "BuildDataset.show_batch_examples(train_dataset, 3)"
   ],
   "metadata": {
    "collapsed": false,
    "pycharm": {
     "name": "#%%\n"
    }
   }
  },
  {
   "cell_type": "code",
   "source": [
    "model_builder = ModelBuilder(CFG, use_my_model=True, pretrained_model_path=None)\n",
    "\n",
    "model_pytorch = model_builder.get_model()"
   ],
   "metadata": {
    "id": "M3clAIm8ERqX",
    "pycharm": {
     "name": "#%%\n"
    }
   },
   "execution_count": 8,
   "outputs": []
  },
  {
   "cell_type": "code",
   "source": [
    "optimizer = optim.Adam(model_pytorch.parameters(), lr=CFG.lr, weight_decay=CFG.wd)\n",
    "\n",
    "def criterion(y_pred, y_true):\n",
    "    return 0.5*BCELoss(y_pred, y_true) + 0.5*TverskyLoss(y_pred, y_true)\n",
    "\n",
    "BCELoss = smp.losses.SoftBCEWithLogitsLoss()\n",
    "TverskyLoss = smp.losses.TverskyLoss(mode='multilabel', log_loss=False)\n",
    "\n",
    "loss_fn = criterion\n",
    "dice_loss = dice_coef\n",
    "iou_loss  = iou_coef"
   ],
   "metadata": {
    "colab": {
     "base_uri": "https://localhost:8080/"
    },
    "id": "JYKbK4y7ETOm",
    "outputId": "84770e1f-ba70-4ed9-cc85-a4db9b1766e8",
    "pycharm": {
     "name": "#%%\n"
    }
   },
   "execution_count": 9,
   "outputs": []
  },
  {
   "cell_type": "markdown",
   "source": [
    "# Run Training"
   ],
   "metadata": {
    "id": "pXRUMdd8EoDt",
    "pycharm": {
     "name": "#%% md\n"
    }
   }
  },
  {
   "cell_type": "code",
   "execution_count": 10,
   "outputs": [],
   "source": [
    "model_trainer = Trainer(model_pytorch, train_dataloader, valid_dataloader,\n",
    "                        optimizer=optimizer,\n",
    "                        loss_fn=loss_fn,\n",
    "                        dice_loss=dice_loss,\n",
    "                        iou_loss=iou_loss,\n",
    "                        config=CFG)"
   ],
   "metadata": {
    "collapsed": false,
    "pycharm": {
     "name": "#%%\n"
    }
   }
  },
  {
   "cell_type": "code",
   "execution_count": null,
   "outputs": [
    {
     "name": "stdout",
     "output_type": "stream",
     "text": [
      "Epoch 1/50\n"
     ]
    },
    {
     "name": "stderr",
     "output_type": "stream",
     "text": [
      "Train :   0%|          | 0/15 [00:00<?, ?it/s]/home/raphael/.local/lib/python3.8/site-packages/torch/nn/functional.py:718: UserWarning: Named tensors and all their associated APIs are an experimental feature and subject to change. Please do not use them for anything important until they are released as stable. (Triggered internally at  /pytorch/c10/core/TensorImpl.h:1156.)\n",
      "  return torch.max_pool2d(input, kernel_size, stride, padding, dilation, ceil_mode)\n"
     ]
    }
   ],
   "source": [
    "model_trainer.run_training()"
   ],
   "metadata": {
    "collapsed": false,
    "pycharm": {
     "name": "#%%\n"
    }
   }
  },
  {
   "cell_type": "markdown",
   "source": [
    "# Result"
   ],
   "metadata": {
    "id": "e8f9XGuUEsDI",
    "pycharm": {
     "name": "#%% md\n"
    }
   }
  },
  {
   "cell_type": "code",
   "source": [
    "model_trainer.plot_logs()"
   ],
   "metadata": {
    "colab": {
     "base_uri": "https://localhost:8080/"
    },
    "id": "FWIKw5zvEsuX",
    "outputId": "8f4071ca-170b-4f1d-a42b-c1bc4a5f15bf",
    "pycharm": {
     "name": "#%%\n"
    }
   },
   "execution_count": 4,
   "outputs": []
  },
  {
   "cell_type": "code",
   "source": [
    "model_trainer.show_result(valid_dataset, 6)"
   ],
   "metadata": {
    "colab": {
     "base_uri": "https://localhost:8080/",
     "height": 716
    },
    "id": "KHH9sYylEu88",
    "outputId": "8c1094c8-ae83-4cac-8664-c957dfceae01",
    "pycharm": {
     "name": "#%%\n"
    }
   },
   "execution_count": 5,
   "outputs": []
  },
  {
   "cell_type": "code",
   "source": [],
   "metadata": {
    "id": "YA7ZBKTfGpNF",
    "pycharm": {
     "name": "#%%\n"
    }
   },
   "execution_count": null,
   "outputs": []
  }
 ],
 "metadata": {
  "colab": {
   "collapsed_sections": [],
   "name": "train_topdown_model_unet.ipynb",
   "provenance": []
  },
  "kernelspec": {
   "display_name": "Python 3",
   "name": "python3"
  },
  "language_info": {
   "name": "python"
  },
  "accelerator": "GPU"
 },
 "nbformat": 4,
 "nbformat_minor": 0
}